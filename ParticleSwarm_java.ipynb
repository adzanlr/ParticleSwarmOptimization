{
  "nbformat": 4,
  "nbformat_minor": 0,
  "metadata": {
    "colab": {
      "name": "ParticleSwarm.java",
      "provenance": [],
      "authorship_tag": "ABX9TyOMWd87kivxL7qaX7FvP8bT",
      "include_colab_link": true
    },
    "kernelspec": {
      "name": "python3",
      "display_name": "Python 3"
    },
    "language_info": {
      "name": "python"
    }
  },
  "cells": [
    {
      "cell_type": "markdown",
      "metadata": {
        "id": "view-in-github",
        "colab_type": "text"
      },
      "source": [
        "<a href=\"https://colab.research.google.com/github/adzanlr/ParticleSwarmOptimization/blob/main/ParticleSwarm_java.ipynb\" target=\"_parent\"><img src=\"https://colab.research.google.com/assets/colab-badge.svg\" alt=\"Open In Colab\"/></a>"
      ]
    },
    {
      "cell_type": "code",
      "execution_count": null,
      "metadata": {
        "id": "RVijOitkY0AL"
      },
      "outputs": [],
      "source": [
        "public class ParticleSwarm {\n",
        "    double rand1 = 0.8342;\n",
        "    double rand2 = 0.2963;\n",
        "    double wMin = 0.6;\n",
        "    double wMax = 0.9;\n",
        "    int c1 = 2;\n",
        "    int c2 = 2;\n",
        "    int iTotal = 20;\n",
        "\n",
        "    public double hitungPartikel(int prevV, int pBest, int gBest, int prevP, int i) {\n",
        "        double W = wMax - ((wMax * wMin) / iTotal) * i;\n",
        "\n",
        "        return W * prevV + (c1 * rand1) * (pBest - prevP) + (c2 * rand2) * (gBest - prevP);\n",
        "    }\n",
        "}"
      ]
    }
  ]
}